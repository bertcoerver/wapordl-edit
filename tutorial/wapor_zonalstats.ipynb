{
 "cells": [
  {
   "cell_type": "markdown",
   "metadata": {},
   "source": [
    "# Run wapor_zonal function from wapordl \n",
    "\n",
    " ---\n",
    " ## 1. Install Miniconda and Set Up Environment\n",
    " Conda is a package manager useful for managing dependencies and creating isolated environments. \n",
    " \n",
    " **Steps**:\n",
    " - Install Conda if you haven’t already by following the instructions [here](https://docs.anaconda.com/miniconda/miniconda-install/).\n",
    " - Create a Conda environment with the necessary packages.\n",
    " - Install local version of wapordl\n",
    " - Install jupyter notebook\n",
    " - Run notebook\n",
    " \n",
    "### Install Conda Environment with Packages\n",
    "\n",
    " Note: *Run this in your terminal, not directly in Jupyter.*\n",
    "\n",
    " change location to the repo folder (not the package folder within the repo)\n",
    " ```bash\n",
    " cd your_repo_path\n",
    " ```\n",
    " create the wapor conda env needed to run the notebook\n",
    " ```bash\n",
    " conda env create -f wapor_env.yaml\n",
    " ```\n",
    " Once done, activate the environment:\n",
    " ```bash\n",
    " conda activate wapor_env\n",
    " ```\n",
    " install local verison of wapordl\n",
    " ```bash\n",
    " pip install .\n",
    " ```\n",
    " To install Jupyter Notebook in this environment:\n",
    " ```bash\n",
    " conda install -c conda-forge notebook\n",
    " ```\n",
    "\n",
    " ## 2. Running a Jupyter Notebook from the Environment\n",
    " Once the environment is created and activated, launch Jupyter Notebook from within the repo by running:\n",
    " ```bash\n",
    " jupyter notebook\n",
    " ```\n",
    " This will open a browser window to manage notebooks within your environment select this notebook and your read to go"
   ]
  },
  {
   "cell_type": "code",
   "execution_count": null,
   "metadata": {
    "vscode": {
     "languageId": "plaintext"
    }
   },
   "outputs": [],
   "source": [
    "# test functionality\n",
    "\n",
    "from osgeo import gdal\n",
    "from wapordl.main import wapor_zonal\n",
    "\n",
    "print('imports succesful')"
   ]
  },
  {
   "cell_type": "markdown",
   "metadata": {},
   "source": [
    "## 4. Run wapor_zonal\n",
    "\n",
    "### Parameters\n",
    "\n",
    "- **target_polygons** (`Union[str, List[float], None]`):  \n",
    "  Defines the geographical areas (polygons) of interest, for which statistics are calculated. The argument should be the file path to a vector file containing these polygons, such as a `.shp` file.\n",
    "  - **Example**: `target_polygons=\"path/to/shapefile.shp\"`\n",
    "\n",
    "- **id_column** (`str`):  \n",
    "  Specifies the column in `target_polygons` used to uniquely identify each polygon, so statistics can be grouped by each polygon in the output files.\n",
    "  - **Example**: `id_column=\"region_id\"`\n",
    "\n",
    "- **variables** (`list[str]`):  \n",
    "  List of variable names to download and process for each polygon. These could be climate or environmental metrics provided by the WaPOR3 or agERA5 datasets.\n",
    "  - **Example**: `variables=[\"L1-PCP-E\", \"L2-AETI-D\", \"L2-NPP-D\"]`\n",
    "\n",
    "- **period** (`list`):  \n",
    "  The time period for which data will be downloaded, given as start and end dates. The period should be specified as a list with two date strings in `\"YYYY-MM-DD\"` format.\n",
    "  - **Example**: `period=[\"2018-01-01\", \"2023-12-31\"]`\n",
    "\n",
    "- **folder** (`str`):  \n",
    "  The folder path where downloaded data will be saved. This path must already exist on your file system.\n",
    "  - **Example**: `folder=\"wapor_output_data\"`\n",
    "\n",
    "- **overview** (`Union[str, int]`, optional):  \n",
    "  Specifies which overview of the Cloud-Optimized GeoTIFF (COG) files to use if None chosen the original resolution is used, by default `None`.\n",
    "\n",
    "- **unit_conversion** (`str`, optional):  \n",
    "  Defines the unit conversion for the data, if needed. Options are `\"day\"`, `\"dekad\"`, `\"month\"`, or `\"year\"`. This allows data to be standardized across different timeframes.\n",
    "  - **Example**: `unit_conversion=\"month\"`\n",
    "\n",
    "- **req_stats** (`list`, optional):  \n",
    "  List of statistics to include in the output, such as `\"mean\"`, `\"std\"`, `\"maximum\"`, and `\"minimum\"`. The default is `[\"mean\", \"std\"]`.\n",
    "  - **Example**: `req_stats=[\"mean\", \"std\", \"minimum\"]`\n",
    "\n",
    "- **skip_if_exists** (`bool`, optional):  \n",
    "  If `True`, skips downloading files that already exist in the folder. This is useful for resuming processes without duplicating work.\n",
    "  - **Example**: `skip_if_exists=True`\n",
    "\n",
    "- **split_by_year** (`bool`, optional):  \n",
    "  If `True`, splits data processing by year during retrieval, which can help manage large datasets.\n",
    "  - **Example**: `split_by_year=True`\n",
    "\n",
    "- **output_gpkg** (`bool`, optional):  \n",
    "  If `True`, outputs the zonal statistics as a GeoPackage (GPKG) file, a format for storing vector data with attribute tables, not reccomended for large requests.\n",
    "  - **Example**: `output_gpkg=True`"
   ]
  },
  {
   "cell_type": "code",
   "execution_count": null,
   "metadata": {
    "vscode": {
     "languageId": "plaintext"
    }
   },
   "outputs": [],
   "source": [
    "### Define Inputs for wapor_zonal\n",
    "# Adjust the following parameters based on your own data paths and choices.\n",
    "variables = [\"L1-NPP-D\", \"L1-AETI-D\"]\n",
    "folder = r\"path_to_your_folder\"\n",
    "period = [\"2019-01-01\", \"2019-12-31\"]\n",
    "region1 = r\"path_to_your_polygon_file\"\n",
    "\n",
    "# Run wapor_zonal function\n",
    "df = wapor_zonal(\n",
    "    target_polygons=region1,\n",
    "    id_column=\"fid\",\n",
    "    variables=variables,\n",
    "    period=period,\n",
    "    req_stats=[\"mean\"],\n",
    "    folder=folder,\n",
    "    skip_if_exists=True,\n",
    "    split_by_year=True,\n",
    ")\n",
    "\n",
    "# The `df` variable will contain the output DataFrame with calculated zonal statistics.\n",
    "df.head()  # Display first few rows of the DataFrame\n"
   ]
  }
 ],
 "metadata": {
  "kernelspec": {
   "display_name": "Python 3 (ipykernel)",
   "language": "python",
   "name": "python3"
  },
  "language_info": {
   "codemirror_mode": {
    "name": "ipython",
    "version": 3
   },
   "file_extension": ".py",
   "mimetype": "text/x-python",
   "name": "python",
   "nbconvert_exporter": "python",
   "pygments_lexer": "ipython3",
   "version": "3.12.7"
  }
 },
 "nbformat": 4,
 "nbformat_minor": 4
}
